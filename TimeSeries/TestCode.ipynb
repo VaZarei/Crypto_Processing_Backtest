{
 "cells": [
  {
   "cell_type": "code",
   "execution_count": 1,
   "metadata": {},
   "outputs": [
    {
     "name": "stdout",
     "output_type": "stream",
     "text": [
      "scipy: 1.10.1\n",
      "numpy: 1.24.2\n",
      "matplotlib: 3.7.1\n",
      "pandas: 1.5.3\n",
      "statsmodels: 0.13.5\n",
      "sklearn: 1.2.2\n"
     ]
    }
   ],
   "source": [
    "import scipy\n",
    "print('scipy: %s' % scipy.__version__)\n",
    "# numpy\n",
    "import numpy\n",
    "print('numpy: %s' % numpy.__version__)\n",
    "# matplotlib\n",
    "import matplotlib\n",
    "print('matplotlib: %s' % matplotlib.__version__)\n",
    "# pandas\n",
    "import pandas\n",
    "print('pandas: %s' % pandas.__version__)\n",
    "# statsmodels\n",
    "import statsmodels\n",
    "print('statsmodels: %s' % statsmodels.__version__)\n",
    "# scikit-learn\n",
    "import sklearn\n",
    "print('sklearn: %s' % sklearn.__version__)"
   ]
  },
  {
   "cell_type": "code",
   "execution_count": null,
   "metadata": {},
   "outputs": [],
   "source": [
    "from pandas import read_csv\n",
    "\n",
    "series = read_csv('daily-total-female-births.csv', header=0, index_col=0, parse_dates=True, squeeze= True)\n",
    "#print(type(series))\n",
    "#print(series.head())\n",
    "#print(series.size)\n",
    "print(series['1959-01'])"
   ]
  },
  {
   "cell_type": "code",
   "execution_count": 19,
   "metadata": {},
   "outputs": [
    {
     "ename": "SyntaxError",
     "evalue": "invalid syntax. Perhaps you forgot a comma? (425513420.py, line 7)",
     "output_type": "error",
     "traceback": [
      "\u001b[1;36m  Cell \u001b[1;32mIn[19], line 7\u001b[1;36m\u001b[0m\n\u001b[1;33m    dataframe = concat([temps.shift(3), temps.shift(2), temps.shift(1) temps], axis=1)\u001b[0m\n\u001b[1;37m                                                        ^\u001b[0m\n\u001b[1;31mSyntaxError\u001b[0m\u001b[1;31m:\u001b[0m invalid syntax. Perhaps you forgot a comma?\n"
     ]
    }
   ],
   "source": [
    "from pandas import read_csv\n",
    "from pandas import DataFrame\n",
    "from pandas import concat\n",
    "\n",
    "series = read_csv('daily-total-female-births.csv', header=0, index_col=0, parse_dates=True, squeeze= True)\n",
    "temps = DataFrame(series.values)\n",
    "dataframe = concat([temps.shift(3), temps.shift(2), temps.shift(1), temps], axis=1)\n",
    "print(dataframe)\n",
    "dataframe.columns = ['t-2', 't-1', 't', 't+1']\n",
    "#print(dataframe.head(5))"
   ]
  }
 ],
 "metadata": {
  "kernelspec": {
   "display_name": "Python 3",
   "language": "python",
   "name": "python3"
  },
  "language_info": {
   "codemirror_mode": {
    "name": "ipython",
    "version": 3
   },
   "file_extension": ".py",
   "mimetype": "text/x-python",
   "name": "python",
   "nbconvert_exporter": "python",
   "pygments_lexer": "ipython3",
   "version": "3.10.10"
  },
  "orig_nbformat": 4,
  "vscode": {
   "interpreter": {
    "hash": "4cd0a3589c8bf7114052d4b6cecc578567b2b2f8a9e7c859ed5a43bbedb3f979"
   }
  }
 },
 "nbformat": 4,
 "nbformat_minor": 2
}
